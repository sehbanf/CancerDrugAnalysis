{
  "nbformat": 4,
  "nbformat_minor": 0,
  "metadata": {
    "colab": {
      "name": "Copy of IP.ipynb",
      "provenance": [],
      "collapsed_sections": []
    },
    "kernelspec": {
      "name": "python3",
      "display_name": "Python 3"
    },
    "language_info": {
      "name": "python"
    }
  },
  "cells": [
    {
      "cell_type": "code",
      "execution_count": 1,
      "metadata": {
        "id": "CnjQgNYi4eKJ"
      },
      "outputs": [],
      "source": [
        "import pandas as pd"
      ]
    },
    {
      "cell_type": "code",
      "source": [
        "dataframe1 = pd.read_csv(\"/content/data.txt\")"
      ],
      "metadata": {
        "id": "O6HwSwII42e1"
      },
      "execution_count": 2,
      "outputs": []
    },
    {
      "cell_type": "code",
      "source": [
        "dataframe1.to_csv('data.csv', index = None)"
      ],
      "metadata": {
        "id": "NYF1bYs644oq"
      },
      "execution_count": 3,
      "outputs": []
    },
    {
      "cell_type": "code",
      "source": [
        "df = pd.read_csv('data.csv',sep='\\t')"
      ],
      "metadata": {
        "id": "bleYVtRb5Rje"
      },
      "execution_count": 4,
      "outputs": []
    },
    {
      "cell_type": "code",
      "source": [
        "df.head()"
      ],
      "metadata": {
        "colab": {
          "base_uri": "https://localhost:8080/",
          "height": 250
        },
        "id": "ZbFRsJwR5BtJ",
        "outputId": "4df609d9-b09e-44d5-9bd8-ca57f57e4fd3"
      },
      "execution_count": 5,
      "outputs": [
        {
          "output_type": "execute_result",
          "data": {
            "text/plain": [
              "  CLASS         A         B         C         D         E         F         G  \\\n",
              "0     C -2.254413 -0.591009  2.821589  5.015993  3.948079 -1.292129  0.022318   \n",
              "1     C  2.821589 -1.292129  0.022318  5.015993  1.356318  3.948079  0.749807   \n",
              "2     C -4.410204  0.022318  2.059526  5.015993 -0.591009  0.749807 -2.254413   \n",
              "3     C  3.948079 -4.410204 -1.292129  2.821589  5.015993  2.059526  0.749807   \n",
              "4     C -2.254413  0.022318  0.749807  5.015993  3.948079 -1.292129  2.059526   \n",
              "\n",
              "          H         I         J         K       L          M         N  \n",
              "0  2.059526 -4.410204  1.356318  0.749807  29.043  33.862417 -1.868992  \n",
              "1 -2.254413  2.059526 -0.591009 -4.410204  23.490  26.140000 -2.303313  \n",
              "2 -1.292129  1.356318  3.948079  2.821589  29.340  31.674167 -2.245873  \n",
              "3 -0.591009 -2.254413  0.022318  1.356318  36.160  34.899167 -2.559671  \n",
              "4  1.356318 -4.410204 -0.591009  2.821589  27.490  30.772500 -2.071950  "
            ],
            "text/html": [
              "\n",
              "  <div id=\"df-432322c7-6750-4ee5-84fd-a1c896204570\">\n",
              "    <div class=\"colab-df-container\">\n",
              "      <div>\n",
              "<style scoped>\n",
              "    .dataframe tbody tr th:only-of-type {\n",
              "        vertical-align: middle;\n",
              "    }\n",
              "\n",
              "    .dataframe tbody tr th {\n",
              "        vertical-align: top;\n",
              "    }\n",
              "\n",
              "    .dataframe thead th {\n",
              "        text-align: right;\n",
              "    }\n",
              "</style>\n",
              "<table border=\"1\" class=\"dataframe\">\n",
              "  <thead>\n",
              "    <tr style=\"text-align: right;\">\n",
              "      <th></th>\n",
              "      <th>CLASS</th>\n",
              "      <th>A</th>\n",
              "      <th>B</th>\n",
              "      <th>C</th>\n",
              "      <th>D</th>\n",
              "      <th>E</th>\n",
              "      <th>F</th>\n",
              "      <th>G</th>\n",
              "      <th>H</th>\n",
              "      <th>I</th>\n",
              "      <th>J</th>\n",
              "      <th>K</th>\n",
              "      <th>L</th>\n",
              "      <th>M</th>\n",
              "      <th>N</th>\n",
              "    </tr>\n",
              "  </thead>\n",
              "  <tbody>\n",
              "    <tr>\n",
              "      <th>0</th>\n",
              "      <td>C</td>\n",
              "      <td>-2.254413</td>\n",
              "      <td>-0.591009</td>\n",
              "      <td>2.821589</td>\n",
              "      <td>5.015993</td>\n",
              "      <td>3.948079</td>\n",
              "      <td>-1.292129</td>\n",
              "      <td>0.022318</td>\n",
              "      <td>2.059526</td>\n",
              "      <td>-4.410204</td>\n",
              "      <td>1.356318</td>\n",
              "      <td>0.749807</td>\n",
              "      <td>29.043</td>\n",
              "      <td>33.862417</td>\n",
              "      <td>-1.868992</td>\n",
              "    </tr>\n",
              "    <tr>\n",
              "      <th>1</th>\n",
              "      <td>C</td>\n",
              "      <td>2.821589</td>\n",
              "      <td>-1.292129</td>\n",
              "      <td>0.022318</td>\n",
              "      <td>5.015993</td>\n",
              "      <td>1.356318</td>\n",
              "      <td>3.948079</td>\n",
              "      <td>0.749807</td>\n",
              "      <td>-2.254413</td>\n",
              "      <td>2.059526</td>\n",
              "      <td>-0.591009</td>\n",
              "      <td>-4.410204</td>\n",
              "      <td>23.490</td>\n",
              "      <td>26.140000</td>\n",
              "      <td>-2.303313</td>\n",
              "    </tr>\n",
              "    <tr>\n",
              "      <th>2</th>\n",
              "      <td>C</td>\n",
              "      <td>-4.410204</td>\n",
              "      <td>0.022318</td>\n",
              "      <td>2.059526</td>\n",
              "      <td>5.015993</td>\n",
              "      <td>-0.591009</td>\n",
              "      <td>0.749807</td>\n",
              "      <td>-2.254413</td>\n",
              "      <td>-1.292129</td>\n",
              "      <td>1.356318</td>\n",
              "      <td>3.948079</td>\n",
              "      <td>2.821589</td>\n",
              "      <td>29.340</td>\n",
              "      <td>31.674167</td>\n",
              "      <td>-2.245873</td>\n",
              "    </tr>\n",
              "    <tr>\n",
              "      <th>3</th>\n",
              "      <td>C</td>\n",
              "      <td>3.948079</td>\n",
              "      <td>-4.410204</td>\n",
              "      <td>-1.292129</td>\n",
              "      <td>2.821589</td>\n",
              "      <td>5.015993</td>\n",
              "      <td>2.059526</td>\n",
              "      <td>0.749807</td>\n",
              "      <td>-0.591009</td>\n",
              "      <td>-2.254413</td>\n",
              "      <td>0.022318</td>\n",
              "      <td>1.356318</td>\n",
              "      <td>36.160</td>\n",
              "      <td>34.899167</td>\n",
              "      <td>-2.559671</td>\n",
              "    </tr>\n",
              "    <tr>\n",
              "      <th>4</th>\n",
              "      <td>C</td>\n",
              "      <td>-2.254413</td>\n",
              "      <td>0.022318</td>\n",
              "      <td>0.749807</td>\n",
              "      <td>5.015993</td>\n",
              "      <td>3.948079</td>\n",
              "      <td>-1.292129</td>\n",
              "      <td>2.059526</td>\n",
              "      <td>1.356318</td>\n",
              "      <td>-4.410204</td>\n",
              "      <td>-0.591009</td>\n",
              "      <td>2.821589</td>\n",
              "      <td>27.490</td>\n",
              "      <td>30.772500</td>\n",
              "      <td>-2.071950</td>\n",
              "    </tr>\n",
              "  </tbody>\n",
              "</table>\n",
              "</div>\n",
              "      <button class=\"colab-df-convert\" onclick=\"convertToInteractive('df-432322c7-6750-4ee5-84fd-a1c896204570')\"\n",
              "              title=\"Convert this dataframe to an interactive table.\"\n",
              "              style=\"display:none;\">\n",
              "        \n",
              "  <svg xmlns=\"http://www.w3.org/2000/svg\" height=\"24px\"viewBox=\"0 0 24 24\"\n",
              "       width=\"24px\">\n",
              "    <path d=\"M0 0h24v24H0V0z\" fill=\"none\"/>\n",
              "    <path d=\"M18.56 5.44l.94 2.06.94-2.06 2.06-.94-2.06-.94-.94-2.06-.94 2.06-2.06.94zm-11 1L8.5 8.5l.94-2.06 2.06-.94-2.06-.94L8.5 2.5l-.94 2.06-2.06.94zm10 10l.94 2.06.94-2.06 2.06-.94-2.06-.94-.94-2.06-.94 2.06-2.06.94z\"/><path d=\"M17.41 7.96l-1.37-1.37c-.4-.4-.92-.59-1.43-.59-.52 0-1.04.2-1.43.59L10.3 9.45l-7.72 7.72c-.78.78-.78 2.05 0 2.83L4 21.41c.39.39.9.59 1.41.59.51 0 1.02-.2 1.41-.59l7.78-7.78 2.81-2.81c.8-.78.8-2.07 0-2.86zM5.41 20L4 18.59l7.72-7.72 1.47 1.35L5.41 20z\"/>\n",
              "  </svg>\n",
              "      </button>\n",
              "      \n",
              "  <style>\n",
              "    .colab-df-container {\n",
              "      display:flex;\n",
              "      flex-wrap:wrap;\n",
              "      gap: 12px;\n",
              "    }\n",
              "\n",
              "    .colab-df-convert {\n",
              "      background-color: #E8F0FE;\n",
              "      border: none;\n",
              "      border-radius: 50%;\n",
              "      cursor: pointer;\n",
              "      display: none;\n",
              "      fill: #1967D2;\n",
              "      height: 32px;\n",
              "      padding: 0 0 0 0;\n",
              "      width: 32px;\n",
              "    }\n",
              "\n",
              "    .colab-df-convert:hover {\n",
              "      background-color: #E2EBFA;\n",
              "      box-shadow: 0px 1px 2px rgba(60, 64, 67, 0.3), 0px 1px 3px 1px rgba(60, 64, 67, 0.15);\n",
              "      fill: #174EA6;\n",
              "    }\n",
              "\n",
              "    [theme=dark] .colab-df-convert {\n",
              "      background-color: #3B4455;\n",
              "      fill: #D2E3FC;\n",
              "    }\n",
              "\n",
              "    [theme=dark] .colab-df-convert:hover {\n",
              "      background-color: #434B5C;\n",
              "      box-shadow: 0px 1px 3px 1px rgba(0, 0, 0, 0.15);\n",
              "      filter: drop-shadow(0px 1px 2px rgba(0, 0, 0, 0.3));\n",
              "      fill: #FFFFFF;\n",
              "    }\n",
              "  </style>\n",
              "\n",
              "      <script>\n",
              "        const buttonEl =\n",
              "          document.querySelector('#df-432322c7-6750-4ee5-84fd-a1c896204570 button.colab-df-convert');\n",
              "        buttonEl.style.display =\n",
              "          google.colab.kernel.accessAllowed ? 'block' : 'none';\n",
              "\n",
              "        async function convertToInteractive(key) {\n",
              "          const element = document.querySelector('#df-432322c7-6750-4ee5-84fd-a1c896204570');\n",
              "          const dataTable =\n",
              "            await google.colab.kernel.invokeFunction('convertToInteractive',\n",
              "                                                     [key], {});\n",
              "          if (!dataTable) return;\n",
              "\n",
              "          const docLinkHtml = 'Like what you see? Visit the ' +\n",
              "            '<a target=\"_blank\" href=https://colab.research.google.com/notebooks/data_table.ipynb>data table notebook</a>'\n",
              "            + ' to learn more about interactive tables.';\n",
              "          element.innerHTML = '';\n",
              "          dataTable['output_type'] = 'display_data';\n",
              "          await google.colab.output.renderOutput(dataTable, element);\n",
              "          const docLink = document.createElement('div');\n",
              "          docLink.innerHTML = docLinkHtml;\n",
              "          element.appendChild(docLink);\n",
              "        }\n",
              "      </script>\n",
              "    </div>\n",
              "  </div>\n",
              "  "
            ]
          },
          "metadata": {},
          "execution_count": 5
        }
      ]
    },
    {
      "cell_type": "code",
      "source": [
        "df = df.replace({'C': 1, 'H': -1})"
      ],
      "metadata": {
        "id": "VIHPmSGa4BAZ"
      },
      "execution_count": 6,
      "outputs": []
    },
    {
      "cell_type": "code",
      "source": [
        "df.head()"
      ],
      "metadata": {
        "colab": {
          "base_uri": "https://localhost:8080/",
          "height": 250
        },
        "id": "R6I82dUe3IPR",
        "outputId": "62f6513b-b4ba-4d12-9f20-45865397008e"
      },
      "execution_count": 7,
      "outputs": [
        {
          "output_type": "execute_result",
          "data": {
            "text/plain": [
              "   CLASS         A         B         C         D         E         F  \\\n",
              "0      1 -2.254413 -0.591009  2.821589  5.015993  3.948079 -1.292129   \n",
              "1      1  2.821589 -1.292129  0.022318  5.015993  1.356318  3.948079   \n",
              "2      1 -4.410204  0.022318  2.059526  5.015993 -0.591009  0.749807   \n",
              "3      1  3.948079 -4.410204 -1.292129  2.821589  5.015993  2.059526   \n",
              "4      1 -2.254413  0.022318  0.749807  5.015993  3.948079 -1.292129   \n",
              "\n",
              "          G         H         I         J         K       L          M  \\\n",
              "0  0.022318  2.059526 -4.410204  1.356318  0.749807  29.043  33.862417   \n",
              "1  0.749807 -2.254413  2.059526 -0.591009 -4.410204  23.490  26.140000   \n",
              "2 -2.254413 -1.292129  1.356318  3.948079  2.821589  29.340  31.674167   \n",
              "3  0.749807 -0.591009 -2.254413  0.022318  1.356318  36.160  34.899167   \n",
              "4  2.059526  1.356318 -4.410204 -0.591009  2.821589  27.490  30.772500   \n",
              "\n",
              "          N  \n",
              "0 -1.868992  \n",
              "1 -2.303313  \n",
              "2 -2.245873  \n",
              "3 -2.559671  \n",
              "4 -2.071950  "
            ],
            "text/html": [
              "\n",
              "  <div id=\"df-08082dee-29b0-4e9f-890d-ba455e544df8\">\n",
              "    <div class=\"colab-df-container\">\n",
              "      <div>\n",
              "<style scoped>\n",
              "    .dataframe tbody tr th:only-of-type {\n",
              "        vertical-align: middle;\n",
              "    }\n",
              "\n",
              "    .dataframe tbody tr th {\n",
              "        vertical-align: top;\n",
              "    }\n",
              "\n",
              "    .dataframe thead th {\n",
              "        text-align: right;\n",
              "    }\n",
              "</style>\n",
              "<table border=\"1\" class=\"dataframe\">\n",
              "  <thead>\n",
              "    <tr style=\"text-align: right;\">\n",
              "      <th></th>\n",
              "      <th>CLASS</th>\n",
              "      <th>A</th>\n",
              "      <th>B</th>\n",
              "      <th>C</th>\n",
              "      <th>D</th>\n",
              "      <th>E</th>\n",
              "      <th>F</th>\n",
              "      <th>G</th>\n",
              "      <th>H</th>\n",
              "      <th>I</th>\n",
              "      <th>J</th>\n",
              "      <th>K</th>\n",
              "      <th>L</th>\n",
              "      <th>M</th>\n",
              "      <th>N</th>\n",
              "    </tr>\n",
              "  </thead>\n",
              "  <tbody>\n",
              "    <tr>\n",
              "      <th>0</th>\n",
              "      <td>1</td>\n",
              "      <td>-2.254413</td>\n",
              "      <td>-0.591009</td>\n",
              "      <td>2.821589</td>\n",
              "      <td>5.015993</td>\n",
              "      <td>3.948079</td>\n",
              "      <td>-1.292129</td>\n",
              "      <td>0.022318</td>\n",
              "      <td>2.059526</td>\n",
              "      <td>-4.410204</td>\n",
              "      <td>1.356318</td>\n",
              "      <td>0.749807</td>\n",
              "      <td>29.043</td>\n",
              "      <td>33.862417</td>\n",
              "      <td>-1.868992</td>\n",
              "    </tr>\n",
              "    <tr>\n",
              "      <th>1</th>\n",
              "      <td>1</td>\n",
              "      <td>2.821589</td>\n",
              "      <td>-1.292129</td>\n",
              "      <td>0.022318</td>\n",
              "      <td>5.015993</td>\n",
              "      <td>1.356318</td>\n",
              "      <td>3.948079</td>\n",
              "      <td>0.749807</td>\n",
              "      <td>-2.254413</td>\n",
              "      <td>2.059526</td>\n",
              "      <td>-0.591009</td>\n",
              "      <td>-4.410204</td>\n",
              "      <td>23.490</td>\n",
              "      <td>26.140000</td>\n",
              "      <td>-2.303313</td>\n",
              "    </tr>\n",
              "    <tr>\n",
              "      <th>2</th>\n",
              "      <td>1</td>\n",
              "      <td>-4.410204</td>\n",
              "      <td>0.022318</td>\n",
              "      <td>2.059526</td>\n",
              "      <td>5.015993</td>\n",
              "      <td>-0.591009</td>\n",
              "      <td>0.749807</td>\n",
              "      <td>-2.254413</td>\n",
              "      <td>-1.292129</td>\n",
              "      <td>1.356318</td>\n",
              "      <td>3.948079</td>\n",
              "      <td>2.821589</td>\n",
              "      <td>29.340</td>\n",
              "      <td>31.674167</td>\n",
              "      <td>-2.245873</td>\n",
              "    </tr>\n",
              "    <tr>\n",
              "      <th>3</th>\n",
              "      <td>1</td>\n",
              "      <td>3.948079</td>\n",
              "      <td>-4.410204</td>\n",
              "      <td>-1.292129</td>\n",
              "      <td>2.821589</td>\n",
              "      <td>5.015993</td>\n",
              "      <td>2.059526</td>\n",
              "      <td>0.749807</td>\n",
              "      <td>-0.591009</td>\n",
              "      <td>-2.254413</td>\n",
              "      <td>0.022318</td>\n",
              "      <td>1.356318</td>\n",
              "      <td>36.160</td>\n",
              "      <td>34.899167</td>\n",
              "      <td>-2.559671</td>\n",
              "    </tr>\n",
              "    <tr>\n",
              "      <th>4</th>\n",
              "      <td>1</td>\n",
              "      <td>-2.254413</td>\n",
              "      <td>0.022318</td>\n",
              "      <td>0.749807</td>\n",
              "      <td>5.015993</td>\n",
              "      <td>3.948079</td>\n",
              "      <td>-1.292129</td>\n",
              "      <td>2.059526</td>\n",
              "      <td>1.356318</td>\n",
              "      <td>-4.410204</td>\n",
              "      <td>-0.591009</td>\n",
              "      <td>2.821589</td>\n",
              "      <td>27.490</td>\n",
              "      <td>30.772500</td>\n",
              "      <td>-2.071950</td>\n",
              "    </tr>\n",
              "  </tbody>\n",
              "</table>\n",
              "</div>\n",
              "      <button class=\"colab-df-convert\" onclick=\"convertToInteractive('df-08082dee-29b0-4e9f-890d-ba455e544df8')\"\n",
              "              title=\"Convert this dataframe to an interactive table.\"\n",
              "              style=\"display:none;\">\n",
              "        \n",
              "  <svg xmlns=\"http://www.w3.org/2000/svg\" height=\"24px\"viewBox=\"0 0 24 24\"\n",
              "       width=\"24px\">\n",
              "    <path d=\"M0 0h24v24H0V0z\" fill=\"none\"/>\n",
              "    <path d=\"M18.56 5.44l.94 2.06.94-2.06 2.06-.94-2.06-.94-.94-2.06-.94 2.06-2.06.94zm-11 1L8.5 8.5l.94-2.06 2.06-.94-2.06-.94L8.5 2.5l-.94 2.06-2.06.94zm10 10l.94 2.06.94-2.06 2.06-.94-2.06-.94-.94-2.06-.94 2.06-2.06.94z\"/><path d=\"M17.41 7.96l-1.37-1.37c-.4-.4-.92-.59-1.43-.59-.52 0-1.04.2-1.43.59L10.3 9.45l-7.72 7.72c-.78.78-.78 2.05 0 2.83L4 21.41c.39.39.9.59 1.41.59.51 0 1.02-.2 1.41-.59l7.78-7.78 2.81-2.81c.8-.78.8-2.07 0-2.86zM5.41 20L4 18.59l7.72-7.72 1.47 1.35L5.41 20z\"/>\n",
              "  </svg>\n",
              "      </button>\n",
              "      \n",
              "  <style>\n",
              "    .colab-df-container {\n",
              "      display:flex;\n",
              "      flex-wrap:wrap;\n",
              "      gap: 12px;\n",
              "    }\n",
              "\n",
              "    .colab-df-convert {\n",
              "      background-color: #E8F0FE;\n",
              "      border: none;\n",
              "      border-radius: 50%;\n",
              "      cursor: pointer;\n",
              "      display: none;\n",
              "      fill: #1967D2;\n",
              "      height: 32px;\n",
              "      padding: 0 0 0 0;\n",
              "      width: 32px;\n",
              "    }\n",
              "\n",
              "    .colab-df-convert:hover {\n",
              "      background-color: #E2EBFA;\n",
              "      box-shadow: 0px 1px 2px rgba(60, 64, 67, 0.3), 0px 1px 3px 1px rgba(60, 64, 67, 0.15);\n",
              "      fill: #174EA6;\n",
              "    }\n",
              "\n",
              "    [theme=dark] .colab-df-convert {\n",
              "      background-color: #3B4455;\n",
              "      fill: #D2E3FC;\n",
              "    }\n",
              "\n",
              "    [theme=dark] .colab-df-convert:hover {\n",
              "      background-color: #434B5C;\n",
              "      box-shadow: 0px 1px 3px 1px rgba(0, 0, 0, 0.15);\n",
              "      filter: drop-shadow(0px 1px 2px rgba(0, 0, 0, 0.3));\n",
              "      fill: #FFFFFF;\n",
              "    }\n",
              "  </style>\n",
              "\n",
              "      <script>\n",
              "        const buttonEl =\n",
              "          document.querySelector('#df-08082dee-29b0-4e9f-890d-ba455e544df8 button.colab-df-convert');\n",
              "        buttonEl.style.display =\n",
              "          google.colab.kernel.accessAllowed ? 'block' : 'none';\n",
              "\n",
              "        async function convertToInteractive(key) {\n",
              "          const element = document.querySelector('#df-08082dee-29b0-4e9f-890d-ba455e544df8');\n",
              "          const dataTable =\n",
              "            await google.colab.kernel.invokeFunction('convertToInteractive',\n",
              "                                                     [key], {});\n",
              "          if (!dataTable) return;\n",
              "\n",
              "          const docLinkHtml = 'Like what you see? Visit the ' +\n",
              "            '<a target=\"_blank\" href=https://colab.research.google.com/notebooks/data_table.ipynb>data table notebook</a>'\n",
              "            + ' to learn more about interactive tables.';\n",
              "          element.innerHTML = '';\n",
              "          dataTable['output_type'] = 'display_data';\n",
              "          await google.colab.output.renderOutput(dataTable, element);\n",
              "          const docLink = document.createElement('div');\n",
              "          docLink.innerHTML = docLinkHtml;\n",
              "          element.appendChild(docLink);\n",
              "        }\n",
              "      </script>\n",
              "    </div>\n",
              "  </div>\n",
              "  "
            ]
          },
          "metadata": {},
          "execution_count": 7
        }
      ]
    },
    {
      "cell_type": "code",
      "source": [
        "df['CLASS'].value_counts()"
      ],
      "metadata": {
        "colab": {
          "base_uri": "https://localhost:8080/"
        },
        "id": "UHQauy77ZXfb",
        "outputId": "958c03be-ca1c-4917-aaab-2685cd449256"
      },
      "execution_count": 8,
      "outputs": [
        {
          "output_type": "execute_result",
          "data": {
            "text/plain": [
              " 1    60\n",
              "-1    33\n",
              "Name: CLASS, dtype: int64"
            ]
          },
          "metadata": {},
          "execution_count": 8
        }
      ]
    },
    {
      "cell_type": "code",
      "source": [
        "pip install gplearn"
      ],
      "metadata": {
        "id": "IGLUYUIy52qk",
        "colab": {
          "base_uri": "https://localhost:8080/"
        },
        "outputId": "49fe4fc4-e04b-481c-9ac2-970b7430ca87"
      },
      "execution_count": 9,
      "outputs": [
        {
          "output_type": "stream",
          "name": "stdout",
          "text": [
            "Looking in indexes: https://pypi.org/simple, https://us-python.pkg.dev/colab-wheels/public/simple/\n",
            "Collecting gplearn\n",
            "  Downloading gplearn-0.4.2-py3-none-any.whl (25 kB)\n",
            "Requirement already satisfied: joblib>=1.0.0 in /usr/local/lib/python3.7/dist-packages (from gplearn) (1.1.0)\n",
            "Requirement already satisfied: scikit-learn>=1.0.2 in /usr/local/lib/python3.7/dist-packages (from gplearn) (1.0.2)\n",
            "Requirement already satisfied: numpy>=1.14.6 in /usr/local/lib/python3.7/dist-packages (from scikit-learn>=1.0.2->gplearn) (1.21.6)\n",
            "Requirement already satisfied: threadpoolctl>=2.0.0 in /usr/local/lib/python3.7/dist-packages (from scikit-learn>=1.0.2->gplearn) (3.1.0)\n",
            "Requirement already satisfied: scipy>=1.1.0 in /usr/local/lib/python3.7/dist-packages (from scikit-learn>=1.0.2->gplearn) (1.7.3)\n",
            "Installing collected packages: gplearn\n",
            "Successfully installed gplearn-0.4.2\n"
          ]
        }
      ]
    },
    {
      "cell_type": "code",
      "source": [
        "import numpy as np\n",
        "import matplotlib.pyplot as plt\n",
        "import math\n",
        "from gplearn.genetic import SymbolicRegressor\n",
        "import sklearn\n",
        "from sympy import *\n",
        "from sympy import symbols, Eq, solve\n",
        "from sklearn.utils.random import check_random_state\n",
        "import graphviz\n",
        "import time\n",
        "from gplearn.genetic import SymbolicClassifier\n",
        "from sklearn.model_selection import LeaveOneOut\n",
        "from sklearn.metrics import roc_auc_score\n",
        "from sklearn.metrics import f1_score\n",
        "from sklearn.metrics import confusion_matrix\n",
        "import warnings\n",
        "warnings.filterwarnings(\"ignore\")"
      ],
      "metadata": {
        "id": "2zSmGBlp5LXU"
      },
      "execution_count": 10,
      "outputs": []
    },
    {
      "cell_type": "code",
      "source": [
        "# create loocv procedure\n",
        "cv = LeaveOneOut()"
      ],
      "metadata": {
        "id": "SR6MQCvT18OG"
      },
      "execution_count": 11,
      "outputs": []
    },
    {
      "cell_type": "code",
      "source": [
        "X = df.iloc[:,1:]\n",
        "y = df.iloc[:,0]"
      ],
      "metadata": {
        "id": "aheShfTx5Szk"
      },
      "execution_count": 12,
      "outputs": []
    },
    {
      "cell_type": "code",
      "source": [
        "converter = {\n",
        "    'add': lambda x, y : x + y,\n",
        "    'sub': lambda x, y : x - y,\n",
        "    'mul': lambda x, y : x*y,\n",
        "    'div': lambda x, y : x/y,\n",
        "    'sqrt': lambda x : x**0.5,\n",
        "    'log': lambda x : log(x),\n",
        "    'abs': lambda x : abs(x),\n",
        "    'neg': lambda x : -x,\n",
        "    'inv': lambda x : 1/x,\n",
        "    'max': lambda x, y : max(x, y),\n",
        "    'min': lambda x, y : min(x, y),\n",
        "    'sin': lambda x : sin(x),\n",
        "    'cos': lambda x : cos(x),\n",
        "    'pow': lambda x, y : x**y,\n",
        "}"
      ],
      "metadata": {
        "id": "6lWpbf75I7HZ"
      },
      "execution_count": 13,
      "outputs": []
    },
    {
      "cell_type": "code",
      "source": [
        "# enumerate splits\n",
        "y_true, y_pred, equation, res = list(), list(), list(), list()\n",
        "feature=np.array(['A','B','C','D','E','F','G','H','I','J','K','L','M','N'])\n",
        "function_set = ['add', 'sub', 'mul']\n",
        "X1 = np.array(X)\n",
        "y1 = np.array(y)\n",
        "errors=0\n",
        "for train_ix, test_ix in cv.split(X):\n",
        "  # split data\n",
        "  # print(errors)\n",
        "  try:\n",
        "    # print(X1[train_ix, :].shape)\n",
        "    # print(X1[test_ix, :].shape)\n",
        "    # print(y1[train_ix].shape)\n",
        "    # print(y1[test_ix].shape)\n",
        "    X_train, X_test = X1[train_ix, :], X1[test_ix, :]\n",
        "    y_train, y_test = y1[train_ix], y1[test_ix]\n",
        "    # fit model\n",
        "    model = SymbolicClassifier(population_size=1000, generations=30, tournament_size=40, stopping_criteria=0.1, const_range=(- 1.0, 1.0), init_depth=(2, 6), init_method='half and half', function_set=('add', 'sub', 'mul', 'div'), transformer='sigmoid', metric='log loss', parsimony_coefficient=0.001, p_crossover=0.9, p_subtree_mutation=0.01, p_hoist_mutation=0.01, p_point_mutation=0.01, p_point_replace=0.05, max_samples=1.0, class_weight=None, feature_names=feature, warm_start=False, low_memory=False, n_jobs=1, verbose=0, random_state=42)\n",
        "    model.fit(X_train, y_train)\n",
        "    # evaluate model\n",
        "    y_gp1 = model.predict(X_test)\n",
        "    # print(len(X_test[0]))\n",
        "    # getting the equation\n",
        "    eqn = sympify(str(model._program), locals=converter)\n",
        "    eqn1 = str(eqn)\n",
        "    # print(type(eqn1))\n",
        "    # print(X_test)\n",
        "    for i in range(0,len(X_test[0])):\n",
        "      # d[chr(ord('A') + i)] = X_test[i] \n",
        "      # print(eqn1)\n",
        "      # print(i)\n",
        "      # print(chr(ord('A') + i),str(X_test[0][i]))\n",
        "      eqn1 = eqn1.replace(chr(ord('A') + i),str(X_test[0][i]))\n",
        "      \n",
        "    # test_str = \"A + J + 0.564\"\n",
        "    # for i in range(len(X_test[0])):\n",
        "    #   test_str= test_str.replace(chr(ord('A') + i),str(X_test[0][i]))\n",
        "    eqn1 = eqn1.replace('exp','math.exp')\n",
        "    res1 = eval(eqn1)\n",
        "    # print(res1)\n",
        "    \n",
        "    # print(X_test)\n",
        "    # sol = solve(eqn)\n",
        "    # print(sol)\n",
        "    # print(eqn)\n",
        "  except:\n",
        "    errors+=1\n",
        "    continue\n",
        "  # store\n",
        "  \n",
        "  y_true.append(y_test[0])\n",
        "  y_pred.append(y_gp1[0])\n",
        "  equation.append(eqn)\n",
        "  res.append(res1)\n",
        "\n",
        "# calculate AUC-ROC\n",
        "auc_score = roc_auc_score(y_true, y_pred)\n",
        "f1 = f1_score(y_true, y_pred)\n",
        "# cm = confusion_matrix(y_test, y_gp1)\n",
        "# sensitivity = cm[0,0]/(cm[0,0]+cm[0,1])\n",
        "# specificity = cm[1,1]/(cm[1,0]+cm[1,1])\n",
        "tn, fp, fn, tp = confusion_matrix(y_true, y_pred).ravel()\n",
        "sensitivity = tp/(tp+fn)\n",
        "specificity = tn/(tn+fp)\n",
        "\n",
        "print('roc_auc_score: ', auc_score)\n",
        "print('F1 Score: ', f1)\n",
        "print('Sensitivity: ', sensitivity)\n",
        "print('Specificity : ', specificity)"
      ],
      "metadata": {
        "colab": {
          "base_uri": "https://localhost:8080/"
        },
        "id": "zaVV0nuu2LXC",
        "outputId": "75f21ba1-9999-4ef9-e0cb-d7c7c8c9def5"
      },
      "execution_count": 15,
      "outputs": [
        {
          "output_type": "stream",
          "name": "stdout",
          "text": [
            "roc_auc_score:  0.656060606060606\n",
            "F1 Score:  0.7603305785123967\n",
            "Sensitivity:  0.7666666666666667\n",
            "Specificity :  0.5454545454545454\n"
          ]
        }
      ]
    },
    {
      "cell_type": "code",
      "source": [
        "# from sklearn.metrics import classification_report\n",
        "# print(classification_report(y_true,y_pred))"
      ],
      "metadata": {
        "id": "bTsIiTBDTeHr"
      },
      "execution_count": 83,
      "outputs": []
    },
    {
      "cell_type": "code",
      "source": [
        "print(errors)"
      ],
      "metadata": {
        "colab": {
          "base_uri": "https://localhost:8080/"
        },
        "id": "Mull94WkX2nO",
        "outputId": "48b9924d-c44a-4861-e2f6-f678d5b49e6a"
      },
      "execution_count": 16,
      "outputs": [
        {
          "output_type": "stream",
          "name": "stdout",
          "text": [
            "0\n"
          ]
        }
      ]
    },
    {
      "cell_type": "code",
      "source": [
        "t = pd.DataFrame(y_true,columns=['y_true'])\n",
        "t1 = pd.DataFrame(y_pred,columns=['y_pred'])"
      ],
      "metadata": {
        "id": "ajQx-FlF357J"
      },
      "execution_count": 17,
      "outputs": []
    },
    {
      "cell_type": "code",
      "source": [
        "result = pd.concat([t, t1], axis=1, join='inner')\n",
        "display(result)"
      ],
      "metadata": {
        "id": "0AeNbqW23kNX",
        "colab": {
          "base_uri": "https://localhost:8080/",
          "height": 424
        },
        "outputId": "3ab7c557-2e81-43e5-a246-8ad1364f1755"
      },
      "execution_count": 18,
      "outputs": [
        {
          "output_type": "display_data",
          "data": {
            "text/plain": [
              "    y_true  y_pred\n",
              "0        1      -1\n",
              "1        1       1\n",
              "2        1       1\n",
              "3        1       1\n",
              "4        1      -1\n",
              "..     ...     ...\n",
              "88       1       1\n",
              "89       1       1\n",
              "90      -1      -1\n",
              "91      -1      -1\n",
              "92      -1      -1\n",
              "\n",
              "[93 rows x 2 columns]"
            ],
            "text/html": [
              "\n",
              "  <div id=\"df-facb4a96-037e-4381-9902-00b95396b398\">\n",
              "    <div class=\"colab-df-container\">\n",
              "      <div>\n",
              "<style scoped>\n",
              "    .dataframe tbody tr th:only-of-type {\n",
              "        vertical-align: middle;\n",
              "    }\n",
              "\n",
              "    .dataframe tbody tr th {\n",
              "        vertical-align: top;\n",
              "    }\n",
              "\n",
              "    .dataframe thead th {\n",
              "        text-align: right;\n",
              "    }\n",
              "</style>\n",
              "<table border=\"1\" class=\"dataframe\">\n",
              "  <thead>\n",
              "    <tr style=\"text-align: right;\">\n",
              "      <th></th>\n",
              "      <th>y_true</th>\n",
              "      <th>y_pred</th>\n",
              "    </tr>\n",
              "  </thead>\n",
              "  <tbody>\n",
              "    <tr>\n",
              "      <th>0</th>\n",
              "      <td>1</td>\n",
              "      <td>-1</td>\n",
              "    </tr>\n",
              "    <tr>\n",
              "      <th>1</th>\n",
              "      <td>1</td>\n",
              "      <td>1</td>\n",
              "    </tr>\n",
              "    <tr>\n",
              "      <th>2</th>\n",
              "      <td>1</td>\n",
              "      <td>1</td>\n",
              "    </tr>\n",
              "    <tr>\n",
              "      <th>3</th>\n",
              "      <td>1</td>\n",
              "      <td>1</td>\n",
              "    </tr>\n",
              "    <tr>\n",
              "      <th>4</th>\n",
              "      <td>1</td>\n",
              "      <td>-1</td>\n",
              "    </tr>\n",
              "    <tr>\n",
              "      <th>...</th>\n",
              "      <td>...</td>\n",
              "      <td>...</td>\n",
              "    </tr>\n",
              "    <tr>\n",
              "      <th>88</th>\n",
              "      <td>1</td>\n",
              "      <td>1</td>\n",
              "    </tr>\n",
              "    <tr>\n",
              "      <th>89</th>\n",
              "      <td>1</td>\n",
              "      <td>1</td>\n",
              "    </tr>\n",
              "    <tr>\n",
              "      <th>90</th>\n",
              "      <td>-1</td>\n",
              "      <td>-1</td>\n",
              "    </tr>\n",
              "    <tr>\n",
              "      <th>91</th>\n",
              "      <td>-1</td>\n",
              "      <td>-1</td>\n",
              "    </tr>\n",
              "    <tr>\n",
              "      <th>92</th>\n",
              "      <td>-1</td>\n",
              "      <td>-1</td>\n",
              "    </tr>\n",
              "  </tbody>\n",
              "</table>\n",
              "<p>93 rows × 2 columns</p>\n",
              "</div>\n",
              "      <button class=\"colab-df-convert\" onclick=\"convertToInteractive('df-facb4a96-037e-4381-9902-00b95396b398')\"\n",
              "              title=\"Convert this dataframe to an interactive table.\"\n",
              "              style=\"display:none;\">\n",
              "        \n",
              "  <svg xmlns=\"http://www.w3.org/2000/svg\" height=\"24px\"viewBox=\"0 0 24 24\"\n",
              "       width=\"24px\">\n",
              "    <path d=\"M0 0h24v24H0V0z\" fill=\"none\"/>\n",
              "    <path d=\"M18.56 5.44l.94 2.06.94-2.06 2.06-.94-2.06-.94-.94-2.06-.94 2.06-2.06.94zm-11 1L8.5 8.5l.94-2.06 2.06-.94-2.06-.94L8.5 2.5l-.94 2.06-2.06.94zm10 10l.94 2.06.94-2.06 2.06-.94-2.06-.94-.94-2.06-.94 2.06-2.06.94z\"/><path d=\"M17.41 7.96l-1.37-1.37c-.4-.4-.92-.59-1.43-.59-.52 0-1.04.2-1.43.59L10.3 9.45l-7.72 7.72c-.78.78-.78 2.05 0 2.83L4 21.41c.39.39.9.59 1.41.59.51 0 1.02-.2 1.41-.59l7.78-7.78 2.81-2.81c.8-.78.8-2.07 0-2.86zM5.41 20L4 18.59l7.72-7.72 1.47 1.35L5.41 20z\"/>\n",
              "  </svg>\n",
              "      </button>\n",
              "      \n",
              "  <style>\n",
              "    .colab-df-container {\n",
              "      display:flex;\n",
              "      flex-wrap:wrap;\n",
              "      gap: 12px;\n",
              "    }\n",
              "\n",
              "    .colab-df-convert {\n",
              "      background-color: #E8F0FE;\n",
              "      border: none;\n",
              "      border-radius: 50%;\n",
              "      cursor: pointer;\n",
              "      display: none;\n",
              "      fill: #1967D2;\n",
              "      height: 32px;\n",
              "      padding: 0 0 0 0;\n",
              "      width: 32px;\n",
              "    }\n",
              "\n",
              "    .colab-df-convert:hover {\n",
              "      background-color: #E2EBFA;\n",
              "      box-shadow: 0px 1px 2px rgba(60, 64, 67, 0.3), 0px 1px 3px 1px rgba(60, 64, 67, 0.15);\n",
              "      fill: #174EA6;\n",
              "    }\n",
              "\n",
              "    [theme=dark] .colab-df-convert {\n",
              "      background-color: #3B4455;\n",
              "      fill: #D2E3FC;\n",
              "    }\n",
              "\n",
              "    [theme=dark] .colab-df-convert:hover {\n",
              "      background-color: #434B5C;\n",
              "      box-shadow: 0px 1px 3px 1px rgba(0, 0, 0, 0.15);\n",
              "      filter: drop-shadow(0px 1px 2px rgba(0, 0, 0, 0.3));\n",
              "      fill: #FFFFFF;\n",
              "    }\n",
              "  </style>\n",
              "\n",
              "      <script>\n",
              "        const buttonEl =\n",
              "          document.querySelector('#df-facb4a96-037e-4381-9902-00b95396b398 button.colab-df-convert');\n",
              "        buttonEl.style.display =\n",
              "          google.colab.kernel.accessAllowed ? 'block' : 'none';\n",
              "\n",
              "        async function convertToInteractive(key) {\n",
              "          const element = document.querySelector('#df-facb4a96-037e-4381-9902-00b95396b398');\n",
              "          const dataTable =\n",
              "            await google.colab.kernel.invokeFunction('convertToInteractive',\n",
              "                                                     [key], {});\n",
              "          if (!dataTable) return;\n",
              "\n",
              "          const docLinkHtml = 'Like what you see? Visit the ' +\n",
              "            '<a target=\"_blank\" href=https://colab.research.google.com/notebooks/data_table.ipynb>data table notebook</a>'\n",
              "            + ' to learn more about interactive tables.';\n",
              "          element.innerHTML = '';\n",
              "          dataTable['output_type'] = 'display_data';\n",
              "          await google.colab.output.renderOutput(dataTable, element);\n",
              "          const docLink = document.createElement('div');\n",
              "          docLink.innerHTML = docLinkHtml;\n",
              "          element.appendChild(docLink);\n",
              "        }\n",
              "      </script>\n",
              "    </div>\n",
              "  </div>\n",
              "  "
            ]
          },
          "metadata": {}
        }
      ]
    },
    {
      "cell_type": "code",
      "source": [
        "t3 = pd.DataFrame(equation,columns=['GeneratedEquation'])"
      ],
      "metadata": {
        "id": "cfXBTd_M3ycC"
      },
      "execution_count": 19,
      "outputs": []
    },
    {
      "cell_type": "code",
      "source": [
        "new_result = pd.concat([result,t3], axis=1, join='inner')"
      ],
      "metadata": {
        "id": "HAeaTuPAYZ2O"
      },
      "execution_count": 20,
      "outputs": []
    },
    {
      "cell_type": "code",
      "source": [
        "t4 = pd.DataFrame(res,columns=['EquationValues'])"
      ],
      "metadata": {
        "id": "B-332kkQld-Z"
      },
      "execution_count": 21,
      "outputs": []
    },
    {
      "cell_type": "code",
      "source": [
        "final_result = pd.concat([new_result,t4], axis=1, join='inner')\n",
        "display(final_result)"
      ],
      "metadata": {
        "colab": {
          "base_uri": "https://localhost:8080/",
          "height": 655
        },
        "id": "1e8mOJLal1gy",
        "outputId": "768e4ef1-27df-4c29-9145-7ad0fa9ad14e"
      },
      "execution_count": 22,
      "outputs": [
        {
          "output_type": "display_data",
          "data": {
            "text/plain": [
              "    y_true  y_pred                        GeneratedEquation  EquationValues\n",
              "0        1      -1                            A + J + 0.564       -0.334095\n",
              "1        1       1  A + J + 1 + 1.40383189955302*J/(G**2*L)        3.167756\n",
              "2        1       1  A + J + 1 + 1.40383189955302*J/(G**2*L)        0.500707\n",
              "3        1       1  A + J + 1 + 1.40383189955302*J/(G**2*L)        4.971938\n",
              "4        1      -1  A + J + 1 + 1.40383189955302*J/(G**2*L)       -1.852538\n",
              "..     ...     ...                                      ...             ...\n",
              "88       1       1  A + J + 1 + 1.40383189955302*J/(G**2*L)        5.419233\n",
              "89       1       1  A + J + 1 + 1.40383189955302*J/(G**2*L)        3.846227\n",
              "90      -1      -1  A + J + 1 + 1.40383189955302*J/(G**2*L)       -2.577667\n",
              "91      -1      -1                            A + J + 0.564       -0.940606\n",
              "92      -1      -1                            A + J + 0.564       -0.940606\n",
              "\n",
              "[93 rows x 4 columns]"
            ],
            "text/html": [
              "\n",
              "  <div id=\"df-6b61c5c3-e7e2-46d9-866f-0562443b8267\">\n",
              "    <div class=\"colab-df-container\">\n",
              "      <div>\n",
              "<style scoped>\n",
              "    .dataframe tbody tr th:only-of-type {\n",
              "        vertical-align: middle;\n",
              "    }\n",
              "\n",
              "    .dataframe tbody tr th {\n",
              "        vertical-align: top;\n",
              "    }\n",
              "\n",
              "    .dataframe thead th {\n",
              "        text-align: right;\n",
              "    }\n",
              "</style>\n",
              "<table border=\"1\" class=\"dataframe\">\n",
              "  <thead>\n",
              "    <tr style=\"text-align: right;\">\n",
              "      <th></th>\n",
              "      <th>y_true</th>\n",
              "      <th>y_pred</th>\n",
              "      <th>GeneratedEquation</th>\n",
              "      <th>EquationValues</th>\n",
              "    </tr>\n",
              "  </thead>\n",
              "  <tbody>\n",
              "    <tr>\n",
              "      <th>0</th>\n",
              "      <td>1</td>\n",
              "      <td>-1</td>\n",
              "      <td>A + J + 0.564</td>\n",
              "      <td>-0.334095</td>\n",
              "    </tr>\n",
              "    <tr>\n",
              "      <th>1</th>\n",
              "      <td>1</td>\n",
              "      <td>1</td>\n",
              "      <td>A + J + 1 + 1.40383189955302*J/(G**2*L)</td>\n",
              "      <td>3.167756</td>\n",
              "    </tr>\n",
              "    <tr>\n",
              "      <th>2</th>\n",
              "      <td>1</td>\n",
              "      <td>1</td>\n",
              "      <td>A + J + 1 + 1.40383189955302*J/(G**2*L)</td>\n",
              "      <td>0.500707</td>\n",
              "    </tr>\n",
              "    <tr>\n",
              "      <th>3</th>\n",
              "      <td>1</td>\n",
              "      <td>1</td>\n",
              "      <td>A + J + 1 + 1.40383189955302*J/(G**2*L)</td>\n",
              "      <td>4.971938</td>\n",
              "    </tr>\n",
              "    <tr>\n",
              "      <th>4</th>\n",
              "      <td>1</td>\n",
              "      <td>-1</td>\n",
              "      <td>A + J + 1 + 1.40383189955302*J/(G**2*L)</td>\n",
              "      <td>-1.852538</td>\n",
              "    </tr>\n",
              "    <tr>\n",
              "      <th>...</th>\n",
              "      <td>...</td>\n",
              "      <td>...</td>\n",
              "      <td>...</td>\n",
              "      <td>...</td>\n",
              "    </tr>\n",
              "    <tr>\n",
              "      <th>88</th>\n",
              "      <td>1</td>\n",
              "      <td>1</td>\n",
              "      <td>A + J + 1 + 1.40383189955302*J/(G**2*L)</td>\n",
              "      <td>5.419233</td>\n",
              "    </tr>\n",
              "    <tr>\n",
              "      <th>89</th>\n",
              "      <td>1</td>\n",
              "      <td>1</td>\n",
              "      <td>A + J + 1 + 1.40383189955302*J/(G**2*L)</td>\n",
              "      <td>3.846227</td>\n",
              "    </tr>\n",
              "    <tr>\n",
              "      <th>90</th>\n",
              "      <td>-1</td>\n",
              "      <td>-1</td>\n",
              "      <td>A + J + 1 + 1.40383189955302*J/(G**2*L)</td>\n",
              "      <td>-2.577667</td>\n",
              "    </tr>\n",
              "    <tr>\n",
              "      <th>91</th>\n",
              "      <td>-1</td>\n",
              "      <td>-1</td>\n",
              "      <td>A + J + 0.564</td>\n",
              "      <td>-0.940606</td>\n",
              "    </tr>\n",
              "    <tr>\n",
              "      <th>92</th>\n",
              "      <td>-1</td>\n",
              "      <td>-1</td>\n",
              "      <td>A + J + 0.564</td>\n",
              "      <td>-0.940606</td>\n",
              "    </tr>\n",
              "  </tbody>\n",
              "</table>\n",
              "<p>93 rows × 4 columns</p>\n",
              "</div>\n",
              "      <button class=\"colab-df-convert\" onclick=\"convertToInteractive('df-6b61c5c3-e7e2-46d9-866f-0562443b8267')\"\n",
              "              title=\"Convert this dataframe to an interactive table.\"\n",
              "              style=\"display:none;\">\n",
              "        \n",
              "  <svg xmlns=\"http://www.w3.org/2000/svg\" height=\"24px\"viewBox=\"0 0 24 24\"\n",
              "       width=\"24px\">\n",
              "    <path d=\"M0 0h24v24H0V0z\" fill=\"none\"/>\n",
              "    <path d=\"M18.56 5.44l.94 2.06.94-2.06 2.06-.94-2.06-.94-.94-2.06-.94 2.06-2.06.94zm-11 1L8.5 8.5l.94-2.06 2.06-.94-2.06-.94L8.5 2.5l-.94 2.06-2.06.94zm10 10l.94 2.06.94-2.06 2.06-.94-2.06-.94-.94-2.06-.94 2.06-2.06.94z\"/><path d=\"M17.41 7.96l-1.37-1.37c-.4-.4-.92-.59-1.43-.59-.52 0-1.04.2-1.43.59L10.3 9.45l-7.72 7.72c-.78.78-.78 2.05 0 2.83L4 21.41c.39.39.9.59 1.41.59.51 0 1.02-.2 1.41-.59l7.78-7.78 2.81-2.81c.8-.78.8-2.07 0-2.86zM5.41 20L4 18.59l7.72-7.72 1.47 1.35L5.41 20z\"/>\n",
              "  </svg>\n",
              "      </button>\n",
              "      \n",
              "  <style>\n",
              "    .colab-df-container {\n",
              "      display:flex;\n",
              "      flex-wrap:wrap;\n",
              "      gap: 12px;\n",
              "    }\n",
              "\n",
              "    .colab-df-convert {\n",
              "      background-color: #E8F0FE;\n",
              "      border: none;\n",
              "      border-radius: 50%;\n",
              "      cursor: pointer;\n",
              "      display: none;\n",
              "      fill: #1967D2;\n",
              "      height: 32px;\n",
              "      padding: 0 0 0 0;\n",
              "      width: 32px;\n",
              "    }\n",
              "\n",
              "    .colab-df-convert:hover {\n",
              "      background-color: #E2EBFA;\n",
              "      box-shadow: 0px 1px 2px rgba(60, 64, 67, 0.3), 0px 1px 3px 1px rgba(60, 64, 67, 0.15);\n",
              "      fill: #174EA6;\n",
              "    }\n",
              "\n",
              "    [theme=dark] .colab-df-convert {\n",
              "      background-color: #3B4455;\n",
              "      fill: #D2E3FC;\n",
              "    }\n",
              "\n",
              "    [theme=dark] .colab-df-convert:hover {\n",
              "      background-color: #434B5C;\n",
              "      box-shadow: 0px 1px 3px 1px rgba(0, 0, 0, 0.15);\n",
              "      filter: drop-shadow(0px 1px 2px rgba(0, 0, 0, 0.3));\n",
              "      fill: #FFFFFF;\n",
              "    }\n",
              "  </style>\n",
              "\n",
              "      <script>\n",
              "        const buttonEl =\n",
              "          document.querySelector('#df-6b61c5c3-e7e2-46d9-866f-0562443b8267 button.colab-df-convert');\n",
              "        buttonEl.style.display =\n",
              "          google.colab.kernel.accessAllowed ? 'block' : 'none';\n",
              "\n",
              "        async function convertToInteractive(key) {\n",
              "          const element = document.querySelector('#df-6b61c5c3-e7e2-46d9-866f-0562443b8267');\n",
              "          const dataTable =\n",
              "            await google.colab.kernel.invokeFunction('convertToInteractive',\n",
              "                                                     [key], {});\n",
              "          if (!dataTable) return;\n",
              "\n",
              "          const docLinkHtml = 'Like what you see? Visit the ' +\n",
              "            '<a target=\"_blank\" href=https://colab.research.google.com/notebooks/data_table.ipynb>data table notebook</a>'\n",
              "            + ' to learn more about interactive tables.';\n",
              "          element.innerHTML = '';\n",
              "          dataTable['output_type'] = 'display_data';\n",
              "          await google.colab.output.renderOutput(dataTable, element);\n",
              "          const docLink = document.createElement('div');\n",
              "          docLink.innerHTML = docLinkHtml;\n",
              "          element.appendChild(docLink);\n",
              "        }\n",
              "      </script>\n",
              "    </div>\n",
              "  </div>\n",
              "  "
            ]
          },
          "metadata": {}
        }
      ]
    },
    {
      "cell_type": "code",
      "source": [
        "len(new_result['GeneratedEquation'].unique())"
      ],
      "metadata": {
        "colab": {
          "base_uri": "https://localhost:8080/"
        },
        "id": "ZrMPnrDaYjsB",
        "outputId": "1c7c8e0b-0c73-4f63-ce22-0c7db6dfa020"
      },
      "execution_count": 23,
      "outputs": [
        {
          "output_type": "execute_result",
          "data": {
            "text/plain": [
              "9"
            ]
          },
          "metadata": {},
          "execution_count": 23
        }
      ]
    },
    {
      "cell_type": "code",
      "source": [
        "final_result['EquationValues'].describe()"
      ],
      "metadata": {
        "colab": {
          "base_uri": "https://localhost:8080/"
        },
        "id": "xpy_eH5ILpyq",
        "outputId": "721d5b84-0a19-4c0e-e099-718e72c25252"
      },
      "execution_count": 33,
      "outputs": [
        {
          "output_type": "execute_result",
          "data": {
            "text/plain": [
              "count     93.000000\n",
              "mean      -0.135100\n",
              "std       22.194314\n",
              "min     -198.975299\n",
              "25%       -0.889416\n",
              "50%        1.163197\n",
              "75%        2.536208\n",
              "max       71.632191\n",
              "Name: EquationValues, dtype: float64"
            ]
          },
          "metadata": {},
          "execution_count": 33
        }
      ]
    },
    {
      "cell_type": "code",
      "source": [
        "def x(lis):\n",
        "  count=0\n",
        "  pos=0\n",
        "  for i in lis:\n",
        "    if i<0:\n",
        "      count+=1\n",
        "    else:\n",
        "      pos+=1\n",
        "  print(count)\n",
        "  print(pos)"
      ],
      "metadata": {
        "id": "jVsbBKNbQWwr"
      },
      "execution_count": 68,
      "outputs": []
    },
    {
      "cell_type": "code",
      "source": [
        "x(y_pred)"
      ],
      "metadata": {
        "colab": {
          "base_uri": "https://localhost:8080/"
        },
        "id": "2KcC9jr1Q7tx",
        "outputId": "1d105403-e614-44d4-86db-f48f76e6e633"
      },
      "execution_count": 69,
      "outputs": [
        {
          "output_type": "stream",
          "name": "stdout",
          "text": [
            "32\n",
            "61\n"
          ]
        }
      ]
    },
    {
      "cell_type": "code",
      "source": [
        "### Converting predicted values into classes using new threshold\n",
        "threshold=-3 # threshold kept as mean of the values got from equation\n",
        "y_pred1 = np.array(res)\n",
        "# print(y_pred1)\n",
        "predicted_class1=np.ones(y_pred1.shape)\n",
        "# print(predicted_class1)\n",
        "predicted_class1[y_pred1<threshold]=-1\n",
        "print(predicted_class1)"
      ],
      "metadata": {
        "colab": {
          "base_uri": "https://localhost:8080/"
        },
        "id": "rSfNuSiFNFUA",
        "outputId": "cd326284-6f18-4e13-b9f0-a38725c53e1a"
      },
      "execution_count": 109,
      "outputs": [
        {
          "output_type": "stream",
          "name": "stdout",
          "text": [
            "[ 1.  1.  1.  1.  1.  1.  1.  1.  1.  1.  1.  1.  1.  1.  1.  1.  1.  1.\n",
            "  1.  1.  1.  1.  1.  1.  1.  1.  1.  1.  1.  1.  1. -1.  1.  1.  1.  1.\n",
            "  1.  1.  1.  1.  1.  1.  1.  1.  1.  1.  1.  1.  1.  1.  1.  1.  1.  1.\n",
            "  1.  1.  1.  1.  1.  1.  1.  1.  1.  1. -1.  1.  1.  1.  1.  1.  1.  1.\n",
            "  1.  1.  1.  1.  1.  1.  1.  1.  1.  1.  1.  1.  1.  1.  1.  1.  1.  1.\n",
            "  1.  1.  1.]\n"
          ]
        }
      ]
    },
    {
      "cell_type": "code",
      "source": [
        "y_pred == predicted_class1"
      ],
      "metadata": {
        "colab": {
          "base_uri": "https://localhost:8080/"
        },
        "id": "LHKj8HtoV8_7",
        "outputId": "1d5e3ebb-e8d8-4649-9811-a6b918a10901"
      },
      "execution_count": 110,
      "outputs": [
        {
          "output_type": "execute_result",
          "data": {
            "text/plain": [
              "array([False,  True,  True,  True, False,  True,  True,  True,  True,\n",
              "       False,  True,  True,  True,  True,  True, False,  True, False,\n",
              "        True,  True,  True,  True,  True, False, False,  True,  True,\n",
              "        True,  True, False, False,  True, False, False,  True,  True,\n",
              "        True,  True,  True,  True,  True,  True,  True,  True,  True,\n",
              "        True,  True,  True,  True,  True,  True,  True,  True,  True,\n",
              "       False, False, False, False,  True, False, False, False, False,\n",
              "        True,  True,  True,  True,  True,  True,  True,  True, False,\n",
              "       False, False,  True,  True, False, False,  True, False,  True,\n",
              "       False,  True,  True,  True,  True,  True, False,  True,  True,\n",
              "       False, False, False])"
            ]
          },
          "metadata": {},
          "execution_count": 110
        }
      ]
    },
    {
      "cell_type": "code",
      "source": [
        "# calculate AUC-ROC\n",
        "auc_score = roc_auc_score(y_true, predicted_class1)\n",
        "f1 = f1_score(y_true, predicted_class1)\n",
        "# cm = confusion_matrix(y_test, y_gp1)\n",
        "# sensitivity = cm[0,0]/(cm[0,0]+cm[0,1])\n",
        "# specificity = cm[1,1]/(cm[1,0]+cm[1,1])\n",
        "tn, fp, fn, tp = confusion_matrix(y_true, predicted_class1).ravel()\n",
        "sensitivity = tp/(tp+fn)\n",
        "specificity = tn/(tn+fp)\n",
        "\n",
        "print('roc_auc_score: ', auc_score)\n",
        "print('F1 Score: ', f1)\n",
        "print('Sensitivity: ', sensitivity)\n",
        "print('Specificity : ', specificity)"
      ],
      "metadata": {
        "colab": {
          "base_uri": "https://localhost:8080/"
        },
        "id": "eJUD2SvBN6SX",
        "outputId": "77ddf6ea-6b94-484b-80cf-07eca7f8aaac"
      },
      "execution_count": 111,
      "outputs": [
        {
          "output_type": "stream",
          "name": "stdout",
          "text": [
            "roc_auc_score:  0.5068181818181817\n",
            "F1 Score:  0.7814569536423841\n",
            "Sensitivity:  0.9833333333333333\n",
            "Specificity :  0.030303030303030304\n"
          ]
        }
      ]
    },
    {
      "cell_type": "code",
      "source": [
        "new_result.to_csv('Extracted_data.csv')"
      ],
      "metadata": {
        "id": "89sVYOKTZSJ_"
      },
      "execution_count": 24,
      "outputs": []
    },
    {
      "cell_type": "markdown",
      "source": [
        "Saving the Model"
      ],
      "metadata": {
        "id": "rFXHJx2Zms7r"
      }
    },
    {
      "cell_type": "code",
      "source": [
        "import pickle"
      ],
      "metadata": {
        "id": "H8cpYHezaoZk"
      },
      "execution_count": 25,
      "outputs": []
    },
    {
      "cell_type": "code",
      "source": [
        "# create an iterator object with write permission - model.pkl\n",
        "with open('model_pkl', 'wb') as files:\n",
        "    pickle.dump(model, files)"
      ],
      "metadata": {
        "id": "whE6XDNzmsVF"
      },
      "execution_count": 26,
      "outputs": []
    },
    {
      "cell_type": "code",
      "source": [
        ""
      ],
      "metadata": {
        "id": "N2gThDC_m1jQ"
      },
      "execution_count": null,
      "outputs": []
    }
  ]
}